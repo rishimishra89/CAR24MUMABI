{
  "cells": [
    {
      "cell_type": "markdown",
      "id": "5db2972c",
      "metadata": {
        "id": "5db2972c"
      },
      "source": [
        "# Mumbai Cars Info Extraction"
      ]
    },
    {
      "cell_type": "code",
      "execution_count": 3,
      "id": "f1bbd1ce",
      "metadata": {
        "id": "f1bbd1ce"
      },
      "outputs": [],
      "source": [
        "import pandas as pd\n",
        "from bs4 import BeautifulSoup\n",
        "import requests"
      ]
    },
    {
      "cell_type": "code",
      "execution_count": 4,
      "id": "af363004",
      "metadata": {
        "id": "af363004"
      },
      "outputs": [],
      "source": [
        "url = 'https://www.cars24.com/buy-used-car?f=make%3A%3D%3Aford&sort=bestmatch&serveWarrantyCount=true&gaId=81591696.1720131812&storeCityId=2378'\n",
        "\n",
        "mumbai_cars = requests.get(url)\n",
        "\n",
        "soup = BeautifulSoup(mumbai_cars.content, 'html.parser')"
      ]
    },
    {
      "cell_type": "code",
      "execution_count": 5,
      "id": "99270128",
      "metadata": {
        "id": "99270128"
      },
      "outputs": [],
      "source": [
        "model = soup.find_all('div', class_ = '_2YB7p')"
      ]
    },
    {
      "cell_type": "code",
      "execution_count": 6,
      "id": "ab6fe7e4",
      "metadata": {
        "colab": {
          "base_uri": "https://localhost:8080/"
        },
        "id": "ab6fe7e4",
        "outputId": "17bc3a4f-e19c-4f66-e475-a9d20d5e5322"
      },
      "outputs": [
        {
          "data": {
            "text/plain": [
              "13"
            ]
          },
          "execution_count": 6,
          "metadata": {},
          "output_type": "execute_result"
        }
      ],
      "source": [
        "len(model)"
      ]
    },
    {
      "cell_type": "code",
      "execution_count": 7,
      "id": "634979a2",
      "metadata": {
        "id": "634979a2"
      },
      "outputs": [],
      "source": [
        "models = []\n",
        "fuel_type = []\n",
        "kms_used = []\n",
        "car_type = []\n",
        "service = []\n",
        "emi = []\n",
        "price = []\n",
        "location = []"
      ]
    },
    {
      "cell_type": "code",
      "execution_count": 46,
      "id": "04366e79",
      "metadata": {
        "id": "04366e79"
      },
      "outputs": [],
      "source": [
        "# for i in range(len(model)):\n",
        "#     models.append(model[i].find('h3', class_ = '_11dVb')).text\n",
        "#     fuel_type.append(model[i].find_all('li')[2].get_text())\n",
        "#     kms_used.append(model[i].find_all('li')[0].get_text())\n",
        "#     car_type.append(model[i].find_all('li')[4].get_text())\n",
        "#     service.append(model[i].find('span', class_ = '_JoYA')[].get_text())\n",
        "#     emi.append(model[i].find('span', class_ = '_2O0yU').get_text())\n",
        "#     price.append(model.[i].find('strong', class_ = '_3RL-I').get_text())"
      ]
    },
    {
      "cell_type": "code",
      "execution_count": 8,
      "id": "4fc4f6ca",
      "metadata": {
        "id": "4fc4f6ca"
      },
      "outputs": [],
      "source": [
        "for i in model:\n",
        "    models.append(i.find('h3',class_ = '_11dVb').text),\n",
        "    kms_used.append(i.find_all('li')[0].text),\n",
        "    fuel_type.append(i.find_all('li')[2].text),\n",
        "    car_type.append(i.find_all('li')[4].text),\n",
        "    service.append(i.find('span', class_ = '_3JoYA').text),\n",
        "    emi.append(i.find('span', class_ = '_2O0yU').text),\n",
        "    price.append(i.find('strong', class_ = '_3RL-I').text),\n",
        "    location.append('Mumbai')"
      ]
    },
    {
      "cell_type": "markdown",
      "id": "07664b37",
      "metadata": {
        "id": "07664b37"
      },
      "source": [
        "# New Delhi Cars Info Extraction"
      ]
    },
    {
      "cell_type": "code",
      "execution_count": 9,
      "id": "8f85a0c4",
      "metadata": {
        "id": "8f85a0c4"
      },
      "outputs": [],
      "source": [
        "url1 = 'https://www.cars24.com/buy-used-car?f=make%3A%3D%3Aford&sort=bestmatch&serveWarrantyCount=true&gaId=81591696.1720131812&storeCityId=2'\n",
        "\n",
        "delhi_cars = requests.get(url1)\n",
        "\n",
        "soup1 = BeautifulSoup(delhi_cars.content, 'html.parser')"
      ]
    },
    {
      "cell_type": "code",
      "execution_count": 10,
      "id": "27e48f9b",
      "metadata": {
        "id": "27e48f9b"
      },
      "outputs": [],
      "source": [
        "model1 = soup1.find_all('div', class_ = '_2YB7p')"
      ]
    },
    {
      "cell_type": "code",
      "execution_count": 11,
      "id": "3f2294ef",
      "metadata": {
        "colab": {
          "base_uri": "https://localhost:8080/"
        },
        "id": "3f2294ef",
        "outputId": "acbcf24a-4ebb-43d5-8740-0b6a5216201d"
      },
      "outputs": [
        {
          "data": {
            "text/plain": [
              "20"
            ]
          },
          "execution_count": 11,
          "metadata": {},
          "output_type": "execute_result"
        }
      ],
      "source": [
        "len(model1)"
      ]
    },
    {
      "cell_type": "code",
      "execution_count": 12,
      "id": "272df7b6",
      "metadata": {
        "id": "272df7b6"
      },
      "outputs": [],
      "source": [
        "for i in model1:\n",
        "    models.append(i.find('h3',class_ = '_11dVb').text),\n",
        "    kms_used.append(i.find_all('li')[0].text),\n",
        "    fuel_type.append(i.find_all('li')[2].text),\n",
        "    car_type.append(i.find_all('li')[4].text),\n",
        "    service.append(i.find('span', class_ = '_3JoYA').text),\n",
        "    emi.append(i.find('span', class_ = '_2O0yU').text),\n",
        "    price.append(i.find('strong', class_ = '_3RL-I').text),\n",
        "    location.append('New Delhi')"
      ]
    },
    {
      "cell_type": "markdown",
      "id": "7701d634",
      "metadata": {
        "id": "7701d634"
      },
      "source": [
        "# Creating the DataFrame"
      ]
    },
    {
      "cell_type": "code",
      "execution_count": 13,
      "id": "980f8428",
      "metadata": {
        "id": "980f8428"
      },
      "outputs": [],
      "source": [
        "dict1 = {'Year': models, 'KM':kms_used, 'Fuel': fuel_type, 'Transmission': car_type, 'Feature':service, 'EMI_per_month':emi, 'Price':price, 'Location':location}"
      ]
    },
    {
      "cell_type": "code",
      "execution_count": 14,
      "id": "a46a154b",
      "metadata": {
        "id": "a46a154b"
      },
      "outputs": [],
      "source": [
        "data = pd.DataFrame(dict1)"
      ]
    },
    {
      "cell_type": "code",
      "execution_count": 15,
      "id": "ea2f6315",
      "metadata": {
        "colab": {
          "base_uri": "https://localhost:8080/",
          "height": 206
        },
        "id": "ea2f6315",
        "outputId": "3f39c70f-2963-46bc-f8fd-e5a07ce65cf2"
      },
      "outputs": [
        {
          "data": {
            "text/html": [
              "<div>\n",
              "<style scoped>\n",
              "    .dataframe tbody tr th:only-of-type {\n",
              "        vertical-align: middle;\n",
              "    }\n",
              "\n",
              "    .dataframe tbody tr th {\n",
              "        vertical-align: top;\n",
              "    }\n",
              "\n",
              "    .dataframe thead th {\n",
              "        text-align: right;\n",
              "    }\n",
              "</style>\n",
              "<table border=\"1\" class=\"dataframe\">\n",
              "  <thead>\n",
              "    <tr style=\"text-align: right;\">\n",
              "      <th></th>\n",
              "      <th>Year</th>\n",
              "      <th>KM</th>\n",
              "      <th>Fuel</th>\n",
              "      <th>Transmission</th>\n",
              "      <th>Feature</th>\n",
              "      <th>EMI_per_month</th>\n",
              "      <th>Price</th>\n",
              "      <th>Location</th>\n",
              "    </tr>\n",
              "  </thead>\n",
              "  <tbody>\n",
              "    <tr>\n",
              "      <th>0</th>\n",
              "      <td>2017 Ford Ecosport TREND 1.5L PETROL</td>\n",
              "      <td>27,102 km</td>\n",
              "      <td>Petrol</td>\n",
              "      <td>Manual</td>\n",
              "      <td>100% Tyre Life</td>\n",
              "      <td>EMIs from ₹11,476/month</td>\n",
              "      <td>₹5.87 Lakh</td>\n",
              "      <td>Mumbai</td>\n",
              "    </tr>\n",
              "    <tr>\n",
              "      <th>1</th>\n",
              "      <td>2015 Ford Ecosport TITANIUM 1.5L PETROL</td>\n",
              "      <td>45,779 km</td>\n",
              "      <td>Petrol</td>\n",
              "      <td>Manual</td>\n",
              "      <td>Reg. Serviced</td>\n",
              "      <td>EMIs from ₹8,348/month</td>\n",
              "      <td>₹4.27 Lakh</td>\n",
              "      <td>Mumbai</td>\n",
              "    </tr>\n",
              "    <tr>\n",
              "      <th>2</th>\n",
              "      <td>2017 Ford Ecosport TITANIUM + 1.5L DIESEL</td>\n",
              "      <td>79,659 km</td>\n",
              "      <td>Diesel</td>\n",
              "      <td>Manual</td>\n",
              "      <td>Reg. Serviced</td>\n",
              "      <td>EMIs from ₹12,747/month</td>\n",
              "      <td>₹6.52 Lakh</td>\n",
              "      <td>Mumbai</td>\n",
              "    </tr>\n",
              "    <tr>\n",
              "      <th>3</th>\n",
              "      <td>2018 Ford FREESTYLE TREND 1.2 PETROL</td>\n",
              "      <td>33,314 km</td>\n",
              "      <td>Petrol</td>\n",
              "      <td>Manual</td>\n",
              "      <td>Alloy Wheels</td>\n",
              "      <td>EMIs from ₹9,013/month</td>\n",
              "      <td>₹4.61 Lakh</td>\n",
              "      <td>Mumbai</td>\n",
              "    </tr>\n",
              "    <tr>\n",
              "      <th>4</th>\n",
              "      <td>2015 Ford Ecosport TITANIUM 1.5L PETROL AT</td>\n",
              "      <td>43,187 km</td>\n",
              "      <td>Petrol</td>\n",
              "      <td>Automatic</td>\n",
              "      <td>Spl. Reg. No.</td>\n",
              "      <td>EMIs from ₹10,010/month</td>\n",
              "      <td>₹5.12 Lakh</td>\n",
              "      <td>Mumbai</td>\n",
              "    </tr>\n",
              "  </tbody>\n",
              "</table>\n",
              "</div>"
            ],
            "text/plain": [
              "                                         Year         KM    Fuel Transmission  \\\n",
              "0        2017 Ford Ecosport TREND 1.5L PETROL  27,102 km  Petrol       Manual   \n",
              "1     2015 Ford Ecosport TITANIUM 1.5L PETROL  45,779 km  Petrol       Manual   \n",
              "2   2017 Ford Ecosport TITANIUM + 1.5L DIESEL  79,659 km  Diesel       Manual   \n",
              "3        2018 Ford FREESTYLE TREND 1.2 PETROL  33,314 km  Petrol       Manual   \n",
              "4  2015 Ford Ecosport TITANIUM 1.5L PETROL AT  43,187 km  Petrol    Automatic   \n",
              "\n",
              "          Feature            EMI_per_month       Price Location  \n",
              "0  100% Tyre Life  EMIs from ₹11,476/month  ₹5.87 Lakh   Mumbai  \n",
              "1   Reg. Serviced   EMIs from ₹8,348/month  ₹4.27 Lakh   Mumbai  \n",
              "2   Reg. Serviced  EMIs from ₹12,747/month  ₹6.52 Lakh   Mumbai  \n",
              "3    Alloy Wheels   EMIs from ₹9,013/month  ₹4.61 Lakh   Mumbai  \n",
              "4   Spl. Reg. No.  EMIs from ₹10,010/month  ₹5.12 Lakh   Mumbai  "
            ]
          },
          "execution_count": 15,
          "metadata": {},
          "output_type": "execute_result"
        }
      ],
      "source": [
        "data.head()"
      ]
    },
    {
      "cell_type": "code",
      "execution_count": 16,
      "id": "4dcad02d",
      "metadata": {
        "id": "4dcad02d"
      },
      "outputs": [],
      "source": [
        "data.to_csv('Cars24_web_scrap.csv', index = False)"
      ]
    },
    {
      "cell_type": "markdown",
      "id": "e1427ef1",
      "metadata": {
        "id": "e1427ef1"
      },
      "source": [
        "# Expolatory Data Analysis"
      ]
    },
    {
      "cell_type": "code",
      "execution_count": 17,
      "id": "17a6e84c",
      "metadata": {
        "colab": {
          "base_uri": "https://localhost:8080/"
        },
        "id": "17a6e84c",
        "outputId": "c083378f-0ec3-47e9-c452-36ace1996bf4"
      },
      "outputs": [
        {
          "data": {
            "text/plain": [
              "(33, 8)"
            ]
          },
          "execution_count": 17,
          "metadata": {},
          "output_type": "execute_result"
        }
      ],
      "source": [
        "data.shape"
      ]
    },
    {
      "cell_type": "code",
      "execution_count": 18,
      "id": "17cd3e31",
      "metadata": {
        "colab": {
          "base_uri": "https://localhost:8080/"
        },
        "id": "17cd3e31",
        "outputId": "a453c620-91be-4067-f481-697aee483c8a"
      },
      "outputs": [
        {
          "name": "stdout",
          "output_type": "stream",
          "text": [
            "<class 'pandas.core.frame.DataFrame'>\n",
            "RangeIndex: 33 entries, 0 to 32\n",
            "Data columns (total 8 columns):\n",
            " #   Column         Non-Null Count  Dtype \n",
            "---  ------         --------------  ----- \n",
            " 0   Year           33 non-null     object\n",
            " 1   KM             33 non-null     object\n",
            " 2   Fuel           33 non-null     object\n",
            " 3   Transmission   33 non-null     object\n",
            " 4   Feature        33 non-null     object\n",
            " 5   EMI_per_month  33 non-null     object\n",
            " 6   Price          33 non-null     object\n",
            " 7   Location       33 non-null     object\n",
            "dtypes: object(8)\n",
            "memory usage: 2.2+ KB\n"
          ]
        }
      ],
      "source": [
        "data.info()"
      ]
    },
    {
      "cell_type": "code",
      "execution_count": 19,
      "id": "a1dbe3cd",
      "metadata": {
        "colab": {
          "base_uri": "https://localhost:8080/"
        },
        "id": "a1dbe3cd",
        "outputId": "2231b93d-978d-4974-e173-52112ca22e48"
      },
      "outputs": [
        {
          "data": {
            "text/plain": [
              "Year             0\n",
              "KM               0\n",
              "Fuel             0\n",
              "Transmission     0\n",
              "Feature          0\n",
              "EMI_per_month    0\n",
              "Price            0\n",
              "Location         0\n",
              "dtype: int64"
            ]
          },
          "execution_count": 19,
          "metadata": {},
          "output_type": "execute_result"
        }
      ],
      "source": [
        "data.isna().sum()"
      ]
    },
    {
      "cell_type": "code",
      "execution_count": 20,
      "id": "c2281993",
      "metadata": {
        "colab": {
          "base_uri": "https://localhost:8080/",
          "height": 174
        },
        "id": "c2281993",
        "outputId": "cc45c475-d997-441c-ca89-622653e7c435"
      },
      "outputs": [
        {
          "data": {
            "text/html": [
              "<div>\n",
              "<style scoped>\n",
              "    .dataframe tbody tr th:only-of-type {\n",
              "        vertical-align: middle;\n",
              "    }\n",
              "\n",
              "    .dataframe tbody tr th {\n",
              "        vertical-align: top;\n",
              "    }\n",
              "\n",
              "    .dataframe thead th {\n",
              "        text-align: right;\n",
              "    }\n",
              "</style>\n",
              "<table border=\"1\" class=\"dataframe\">\n",
              "  <thead>\n",
              "    <tr style=\"text-align: right;\">\n",
              "      <th></th>\n",
              "      <th>Year</th>\n",
              "      <th>KM</th>\n",
              "      <th>Fuel</th>\n",
              "      <th>Transmission</th>\n",
              "      <th>Feature</th>\n",
              "      <th>EMI_per_month</th>\n",
              "      <th>Price</th>\n",
              "      <th>Location</th>\n",
              "    </tr>\n",
              "  </thead>\n",
              "  <tbody>\n",
              "    <tr>\n",
              "      <th>count</th>\n",
              "      <td>33</td>\n",
              "      <td>33</td>\n",
              "      <td>33</td>\n",
              "      <td>33</td>\n",
              "      <td>33</td>\n",
              "      <td>33</td>\n",
              "      <td>33</td>\n",
              "      <td>33</td>\n",
              "    </tr>\n",
              "    <tr>\n",
              "      <th>unique</th>\n",
              "      <td>26</td>\n",
              "      <td>33</td>\n",
              "      <td>2</td>\n",
              "      <td>2</td>\n",
              "      <td>8</td>\n",
              "      <td>33</td>\n",
              "      <td>32</td>\n",
              "      <td>2</td>\n",
              "    </tr>\n",
              "    <tr>\n",
              "      <th>top</th>\n",
              "      <td>2019 Ford Ecosport TITANIUM 1.5L DIESEL</td>\n",
              "      <td>27,102 km</td>\n",
              "      <td>Petrol</td>\n",
              "      <td>Manual</td>\n",
              "      <td>Top Model</td>\n",
              "      <td>EMIs from ₹11,476/month</td>\n",
              "      <td>₹6.88 Lakh</td>\n",
              "      <td>New Delhi</td>\n",
              "    </tr>\n",
              "    <tr>\n",
              "      <th>freq</th>\n",
              "      <td>3</td>\n",
              "      <td>1</td>\n",
              "      <td>21</td>\n",
              "      <td>26</td>\n",
              "      <td>14</td>\n",
              "      <td>1</td>\n",
              "      <td>2</td>\n",
              "      <td>20</td>\n",
              "    </tr>\n",
              "  </tbody>\n",
              "</table>\n",
              "</div>"
            ],
            "text/plain": [
              "                                           Year         KM    Fuel  \\\n",
              "count                                        33         33      33   \n",
              "unique                                       26         33       2   \n",
              "top     2019 Ford Ecosport TITANIUM 1.5L DIESEL  27,102 km  Petrol   \n",
              "freq                                          3          1      21   \n",
              "\n",
              "       Transmission    Feature            EMI_per_month       Price   Location  \n",
              "count            33         33                       33          33         33  \n",
              "unique            2          8                       33          32          2  \n",
              "top          Manual  Top Model  EMIs from ₹11,476/month  ₹6.88 Lakh  New Delhi  \n",
              "freq             26         14                        1           2         20  "
            ]
          },
          "execution_count": 20,
          "metadata": {},
          "output_type": "execute_result"
        }
      ],
      "source": [
        "data.describe()"
      ]
    },
    {
      "cell_type": "code",
      "execution_count": 21,
      "id": "a4ec19f6",
      "metadata": {
        "colab": {
          "base_uri": "https://localhost:8080/",
          "height": 206
        },
        "id": "a4ec19f6",
        "outputId": "59d5bd76-18cf-498f-a65b-aa8ab0a97220"
      },
      "outputs": [
        {
          "data": {
            "text/html": [
              "<div>\n",
              "<style scoped>\n",
              "    .dataframe tbody tr th:only-of-type {\n",
              "        vertical-align: middle;\n",
              "    }\n",
              "\n",
              "    .dataframe tbody tr th {\n",
              "        vertical-align: top;\n",
              "    }\n",
              "\n",
              "    .dataframe thead th {\n",
              "        text-align: right;\n",
              "    }\n",
              "</style>\n",
              "<table border=\"1\" class=\"dataframe\">\n",
              "  <thead>\n",
              "    <tr style=\"text-align: right;\">\n",
              "      <th></th>\n",
              "      <th>Year</th>\n",
              "      <th>KM</th>\n",
              "      <th>Fuel</th>\n",
              "      <th>Transmission</th>\n",
              "      <th>Feature</th>\n",
              "      <th>EMI_per_month</th>\n",
              "      <th>Price</th>\n",
              "      <th>Location</th>\n",
              "    </tr>\n",
              "  </thead>\n",
              "  <tbody>\n",
              "    <tr>\n",
              "      <th>7</th>\n",
              "      <td>2016 Ford Ecosport TITANIUM 1.5L PETROL</td>\n",
              "      <td>56,500 km</td>\n",
              "      <td>Petrol</td>\n",
              "      <td>Manual</td>\n",
              "      <td>Top Model</td>\n",
              "      <td>EMIs from ₹9,716/month</td>\n",
              "      <td>₹4.97 Lakh</td>\n",
              "      <td>Mumbai</td>\n",
              "    </tr>\n",
              "    <tr>\n",
              "      <th>30</th>\n",
              "      <td>2017 Ford Ecosport TREND + 1.5L PETROL</td>\n",
              "      <td>55,052 km</td>\n",
              "      <td>Petrol</td>\n",
              "      <td>Manual</td>\n",
              "      <td>Reg. Serviced</td>\n",
              "      <td>EMIs from ₹9,736/month</td>\n",
              "      <td>₹4.98 Lakh</td>\n",
              "      <td>New Delhi</td>\n",
              "    </tr>\n",
              "    <tr>\n",
              "      <th>16</th>\n",
              "      <td>2018 Ford Ecosport TITANIUM 1.5L PETROL</td>\n",
              "      <td>99,291 km</td>\n",
              "      <td>Petrol</td>\n",
              "      <td>Manual</td>\n",
              "      <td>Top Model</td>\n",
              "      <td>EMIs from ₹11,527/month</td>\n",
              "      <td>₹5.90 Lakh</td>\n",
              "      <td>New Delhi</td>\n",
              "    </tr>\n",
              "    <tr>\n",
              "      <th>10</th>\n",
              "      <td>2020 Ford Ecosport TITANIUM + 1.5L DIESEL</td>\n",
              "      <td>65,037 km</td>\n",
              "      <td>Diesel</td>\n",
              "      <td>Manual</td>\n",
              "      <td>Top Model</td>\n",
              "      <td>EMIs from ₹17,150/month</td>\n",
              "      <td>₹9.01 Lakh</td>\n",
              "      <td>Mumbai</td>\n",
              "    </tr>\n",
              "    <tr>\n",
              "      <th>14</th>\n",
              "      <td>2016 Ford Ecosport TITANIUM+ 1.0L ECOBOOST</td>\n",
              "      <td>29,475 km</td>\n",
              "      <td>Petrol</td>\n",
              "      <td>Manual</td>\n",
              "      <td>Top Model</td>\n",
              "      <td>EMIs from ₹12,043/month</td>\n",
              "      <td>₹6.16 Lakh</td>\n",
              "      <td>New Delhi</td>\n",
              "    </tr>\n",
              "  </tbody>\n",
              "</table>\n",
              "</div>"
            ],
            "text/plain": [
              "                                          Year         KM    Fuel  \\\n",
              "7      2016 Ford Ecosport TITANIUM 1.5L PETROL  56,500 km  Petrol   \n",
              "30      2017 Ford Ecosport TREND + 1.5L PETROL  55,052 km  Petrol   \n",
              "16     2018 Ford Ecosport TITANIUM 1.5L PETROL  99,291 km  Petrol   \n",
              "10   2020 Ford Ecosport TITANIUM + 1.5L DIESEL  65,037 km  Diesel   \n",
              "14  2016 Ford Ecosport TITANIUM+ 1.0L ECOBOOST  29,475 km  Petrol   \n",
              "\n",
              "   Transmission        Feature            EMI_per_month       Price   Location  \n",
              "7        Manual      Top Model   EMIs from ₹9,716/month  ₹4.97 Lakh     Mumbai  \n",
              "30       Manual  Reg. Serviced   EMIs from ₹9,736/month  ₹4.98 Lakh  New Delhi  \n",
              "16       Manual      Top Model  EMIs from ₹11,527/month  ₹5.90 Lakh  New Delhi  \n",
              "10       Manual      Top Model  EMIs from ₹17,150/month  ₹9.01 Lakh     Mumbai  \n",
              "14       Manual      Top Model  EMIs from ₹12,043/month  ₹6.16 Lakh  New Delhi  "
            ]
          },
          "execution_count": 21,
          "metadata": {},
          "output_type": "execute_result"
        }
      ],
      "source": [
        "data.sample(5)"
      ]
    },
    {
      "cell_type": "markdown",
      "id": "zWBvouADwe0o",
      "metadata": {
        "id": "zWBvouADwe0o"
      },
      "source": [
        "# UPDATE AS OF 05.07 BY RISHI & SHANMUGAM"
      ]
    },
    {
      "cell_type": "code",
      "execution_count": 22,
      "id": "Jkld_GDeuDik",
      "metadata": {
        "id": "Jkld_GDeuDik"
      },
      "outputs": [],
      "source": [
        "cars = pd.DataFrame()"
      ]
    },
    {
      "cell_type": "code",
      "execution_count": 23,
      "id": "oX_r9bT8wsoE",
      "metadata": {
        "id": "oX_r9bT8wsoE"
      },
      "outputs": [],
      "source": [
        "cars = data[['KM','Year','Fuel','Transmission','Price']]"
      ]
    },
    {
      "cell_type": "code",
      "execution_count": 25,
      "id": "CNvEMnVdxF0K",
      "metadata": {
        "colab": {
          "base_uri": "https://localhost:8080/",
          "height": 206
        },
        "id": "CNvEMnVdxF0K",
        "outputId": "094e7efa-0476-4324-e6b3-53d82a04a1bd"
      },
      "outputs": [
        {
          "data": {
            "text/html": [
              "<div>\n",
              "<style scoped>\n",
              "    .dataframe tbody tr th:only-of-type {\n",
              "        vertical-align: middle;\n",
              "    }\n",
              "\n",
              "    .dataframe tbody tr th {\n",
              "        vertical-align: top;\n",
              "    }\n",
              "\n",
              "    .dataframe thead th {\n",
              "        text-align: right;\n",
              "    }\n",
              "</style>\n",
              "<table border=\"1\" class=\"dataframe\">\n",
              "  <thead>\n",
              "    <tr style=\"text-align: right;\">\n",
              "      <th></th>\n",
              "      <th>KM</th>\n",
              "      <th>Year</th>\n",
              "      <th>Fuel</th>\n",
              "      <th>Transmission</th>\n",
              "      <th>Price</th>\n",
              "    </tr>\n",
              "  </thead>\n",
              "  <tbody>\n",
              "    <tr>\n",
              "      <th>0</th>\n",
              "      <td>27,102 km</td>\n",
              "      <td>2017 Ford Ecosport TREND 1.5L PETROL</td>\n",
              "      <td>Petrol</td>\n",
              "      <td>Manual</td>\n",
              "      <td>₹5.87 Lakh</td>\n",
              "    </tr>\n",
              "    <tr>\n",
              "      <th>1</th>\n",
              "      <td>45,779 km</td>\n",
              "      <td>2015 Ford Ecosport TITANIUM 1.5L PETROL</td>\n",
              "      <td>Petrol</td>\n",
              "      <td>Manual</td>\n",
              "      <td>₹4.27 Lakh</td>\n",
              "    </tr>\n",
              "    <tr>\n",
              "      <th>2</th>\n",
              "      <td>79,659 km</td>\n",
              "      <td>2017 Ford Ecosport TITANIUM + 1.5L DIESEL</td>\n",
              "      <td>Diesel</td>\n",
              "      <td>Manual</td>\n",
              "      <td>₹6.52 Lakh</td>\n",
              "    </tr>\n",
              "    <tr>\n",
              "      <th>3</th>\n",
              "      <td>33,314 km</td>\n",
              "      <td>2018 Ford FREESTYLE TREND 1.2 PETROL</td>\n",
              "      <td>Petrol</td>\n",
              "      <td>Manual</td>\n",
              "      <td>₹4.61 Lakh</td>\n",
              "    </tr>\n",
              "    <tr>\n",
              "      <th>4</th>\n",
              "      <td>43,187 km</td>\n",
              "      <td>2015 Ford Ecosport TITANIUM 1.5L PETROL AT</td>\n",
              "      <td>Petrol</td>\n",
              "      <td>Automatic</td>\n",
              "      <td>₹5.12 Lakh</td>\n",
              "    </tr>\n",
              "  </tbody>\n",
              "</table>\n",
              "</div>"
            ],
            "text/plain": [
              "          KM                                        Year    Fuel Transmission  \\\n",
              "0  27,102 km        2017 Ford Ecosport TREND 1.5L PETROL  Petrol       Manual   \n",
              "1  45,779 km     2015 Ford Ecosport TITANIUM 1.5L PETROL  Petrol       Manual   \n",
              "2  79,659 km   2017 Ford Ecosport TITANIUM + 1.5L DIESEL  Diesel       Manual   \n",
              "3  33,314 km        2018 Ford FREESTYLE TREND 1.2 PETROL  Petrol       Manual   \n",
              "4  43,187 km  2015 Ford Ecosport TITANIUM 1.5L PETROL AT  Petrol    Automatic   \n",
              "\n",
              "        Price  \n",
              "0  ₹5.87 Lakh  \n",
              "1  ₹4.27 Lakh  \n",
              "2  ₹6.52 Lakh  \n",
              "3  ₹4.61 Lakh  \n",
              "4  ₹5.12 Lakh  "
            ]
          },
          "execution_count": 25,
          "metadata": {},
          "output_type": "execute_result"
        }
      ],
      "source": [
        "cars.head()"
      ]
    },
    {
      "cell_type": "markdown",
      "id": "AwXgIDlzji06",
      "metadata": {
        "id": "AwXgIDlzji06"
      },
      "source": [
        "### Used lambda function to configure the rows, so that it would be easy for analysis."
      ]
    },
    {
      "cell_type": "code",
      "execution_count": 26,
      "id": "wGq0Rh9RxJq8",
      "metadata": {
        "colab": {
          "base_uri": "https://localhost:8080/"
        },
        "id": "wGq0Rh9RxJq8",
        "outputId": "45553244-59f3-423c-8eda-1ca67afe4aae"
      },
      "outputs": [
        {
          "name": "stderr",
          "output_type": "stream",
          "text": [
            "C:\\Users\\RISHI MISHRA\\AppData\\Local\\Temp\\ipykernel_20160\\174147318.py:1: SettingWithCopyWarning: \n",
            "A value is trying to be set on a copy of a slice from a DataFrame.\n",
            "Try using .loc[row_indexer,col_indexer] = value instead\n",
            "\n",
            "See the caveats in the documentation: https://pandas.pydata.org/pandas-docs/stable/user_guide/indexing.html#returning-a-view-versus-a-copy\n",
            "  cars.KM = cars.KM.apply(lambda x: x.split()[0])\n",
            "C:\\Users\\RISHI MISHRA\\AppData\\Local\\Temp\\ipykernel_20160\\174147318.py:2: SettingWithCopyWarning: \n",
            "A value is trying to be set on a copy of a slice from a DataFrame.\n",
            "Try using .loc[row_indexer,col_indexer] = value instead\n",
            "\n",
            "See the caveats in the documentation: https://pandas.pydata.org/pandas-docs/stable/user_guide/indexing.html#returning-a-view-versus-a-copy\n",
            "  cars.Year = cars.Year.apply(lambda x: x.split()[0])\n",
            "C:\\Users\\RISHI MISHRA\\AppData\\Local\\Temp\\ipykernel_20160\\174147318.py:3: SettingWithCopyWarning: \n",
            "A value is trying to be set on a copy of a slice from a DataFrame.\n",
            "Try using .loc[row_indexer,col_indexer] = value instead\n",
            "\n",
            "See the caveats in the documentation: https://pandas.pydata.org/pandas-docs/stable/user_guide/indexing.html#returning-a-view-versus-a-copy\n",
            "  cars.Price = cars.Price.apply(lambda x: x.split()[0])\n"
          ]
        }
      ],
      "source": [
        "cars.KM = cars.KM.apply(lambda x: x.split()[0])\n",
        "cars.Year = cars.Year.apply(lambda x: x.split()[0])\n",
        "cars.Price = cars.Price.apply(lambda x: x.split()[0])"
      ]
    },
    {
      "cell_type": "code",
      "execution_count": 27,
      "id": "xcQxuxvyDp3C",
      "metadata": {
        "colab": {
          "base_uri": "https://localhost:8080/",
          "height": 143
        },
        "id": "xcQxuxvyDp3C",
        "outputId": "e780fb70-9c9f-4691-989a-a23478e91730"
      },
      "outputs": [
        {
          "data": {
            "text/html": [
              "<div>\n",
              "<style scoped>\n",
              "    .dataframe tbody tr th:only-of-type {\n",
              "        vertical-align: middle;\n",
              "    }\n",
              "\n",
              "    .dataframe tbody tr th {\n",
              "        vertical-align: top;\n",
              "    }\n",
              "\n",
              "    .dataframe thead th {\n",
              "        text-align: right;\n",
              "    }\n",
              "</style>\n",
              "<table border=\"1\" class=\"dataframe\">\n",
              "  <thead>\n",
              "    <tr style=\"text-align: right;\">\n",
              "      <th></th>\n",
              "      <th>KM</th>\n",
              "      <th>Year</th>\n",
              "      <th>Fuel</th>\n",
              "      <th>Transmission</th>\n",
              "      <th>Price</th>\n",
              "    </tr>\n",
              "  </thead>\n",
              "  <tbody>\n",
              "    <tr>\n",
              "      <th>0</th>\n",
              "      <td>27,102</td>\n",
              "      <td>2017</td>\n",
              "      <td>Petrol</td>\n",
              "      <td>Manual</td>\n",
              "      <td>₹5.87</td>\n",
              "    </tr>\n",
              "    <tr>\n",
              "      <th>1</th>\n",
              "      <td>45,779</td>\n",
              "      <td>2015</td>\n",
              "      <td>Petrol</td>\n",
              "      <td>Manual</td>\n",
              "      <td>₹4.27</td>\n",
              "    </tr>\n",
              "    <tr>\n",
              "      <th>2</th>\n",
              "      <td>79,659</td>\n",
              "      <td>2017</td>\n",
              "      <td>Diesel</td>\n",
              "      <td>Manual</td>\n",
              "      <td>₹6.52</td>\n",
              "    </tr>\n",
              "  </tbody>\n",
              "</table>\n",
              "</div>"
            ],
            "text/plain": [
              "       KM  Year    Fuel Transmission  Price\n",
              "0  27,102  2017  Petrol       Manual  ₹5.87\n",
              "1  45,779  2015  Petrol       Manual  ₹4.27\n",
              "2  79,659  2017  Diesel       Manual  ₹6.52"
            ]
          },
          "execution_count": 27,
          "metadata": {},
          "output_type": "execute_result"
        }
      ],
      "source": [
        "cars.head(3)"
      ]
    },
    {
      "cell_type": "code",
      "execution_count": 28,
      "id": "1UiSuYX1Drfl",
      "metadata": {
        "colab": {
          "base_uri": "https://localhost:8080/"
        },
        "id": "1UiSuYX1Drfl",
        "outputId": "49ed5ebb-5146-4d98-a09f-daae94655cff"
      },
      "outputs": [
        {
          "data": {
            "text/plain": [
              "KM              object\n",
              "Year            object\n",
              "Fuel            object\n",
              "Transmission    object\n",
              "Price           object\n",
              "dtype: object"
            ]
          },
          "execution_count": 28,
          "metadata": {},
          "output_type": "execute_result"
        }
      ],
      "source": [
        "cars.dtypes"
      ]
    },
    {
      "cell_type": "markdown",
      "id": "eL9vltIHkmE1",
      "metadata": {
        "id": "eL9vltIHkmE1"
      },
      "source": [
        "### Removed symbols present in the values to convert the datatype which would result in better analysis."
      ]
    },
    {
      "cell_type": "code",
      "execution_count": 29,
      "id": "D_kCMoCMksJc",
      "metadata": {
        "colab": {
          "base_uri": "https://localhost:8080/"
        },
        "id": "D_kCMoCMksJc",
        "outputId": "891e5813-051d-4baa-d34f-e203fc9916db"
      },
      "outputs": [
        {
          "name": "stderr",
          "output_type": "stream",
          "text": [
            "C:\\Users\\RISHI MISHRA\\AppData\\Local\\Temp\\ipykernel_20160\\3453451639.py:1: SettingWithCopyWarning: \n",
            "A value is trying to be set on a copy of a slice from a DataFrame.\n",
            "Try using .loc[row_indexer,col_indexer] = value instead\n",
            "\n",
            "See the caveats in the documentation: https://pandas.pydata.org/pandas-docs/stable/user_guide/indexing.html#returning-a-view-versus-a-copy\n",
            "  cars.KM = cars.KM.str.replace(',','')\n",
            "C:\\Users\\RISHI MISHRA\\AppData\\Local\\Temp\\ipykernel_20160\\3453451639.py:2: SettingWithCopyWarning: \n",
            "A value is trying to be set on a copy of a slice from a DataFrame.\n",
            "Try using .loc[row_indexer,col_indexer] = value instead\n",
            "\n",
            "See the caveats in the documentation: https://pandas.pydata.org/pandas-docs/stable/user_guide/indexing.html#returning-a-view-versus-a-copy\n",
            "  cars.Price = cars.Price.str.replace('₹', '')\n"
          ]
        }
      ],
      "source": [
        "cars.KM = cars.KM.str.replace(',','')\n",
        "cars.Price = cars.Price.str.replace('₹', '')"
      ]
    },
    {
      "cell_type": "code",
      "execution_count": 30,
      "id": "wGk1ZqLuHgIa",
      "metadata": {
        "colab": {
          "base_uri": "https://localhost:8080/"
        },
        "id": "wGk1ZqLuHgIa",
        "outputId": "6f244170-8523-462c-a4f7-ad8bf9e5c78c"
      },
      "outputs": [
        {
          "name": "stderr",
          "output_type": "stream",
          "text": [
            "C:\\Users\\RISHI MISHRA\\AppData\\Local\\Temp\\ipykernel_20160\\2852736351.py:1: SettingWithCopyWarning: \n",
            "A value is trying to be set on a copy of a slice from a DataFrame.\n",
            "Try using .loc[row_indexer,col_indexer] = value instead\n",
            "\n",
            "See the caveats in the documentation: https://pandas.pydata.org/pandas-docs/stable/user_guide/indexing.html#returning-a-view-versus-a-copy\n",
            "  cars[['KM','Year','Price']] = cars[['KM','Year','Price']].astype(float)\n"
          ]
        }
      ],
      "source": [
        "cars[['KM','Year','Price']] = cars[['KM','Year','Price']].astype(float)"
      ]
    },
    {
      "cell_type": "markdown",
      "id": "6Oxev0bbImAx",
      "metadata": {
        "id": "6Oxev0bbImAx"
      },
      "source": [
        "# **VISUALIZATIONS**"
      ]
    },
    {
      "cell_type": "code",
      "execution_count": 31,
      "id": "zjs_JFM7EisK",
      "metadata": {
        "id": "zjs_JFM7EisK"
      },
      "outputs": [],
      "source": [
        "import matplotlib.pyplot as plt\n",
        "import seaborn as sns"
      ]
    },
    {
      "cell_type": "code",
      "execution_count": 32,
      "id": "OsTfrcwmI0EH",
      "metadata": {
        "colab": {
          "base_uri": "https://localhost:8080/",
          "height": 143
        },
        "id": "OsTfrcwmI0EH",
        "outputId": "103fa531-7e4f-469f-c8f3-96a4b70373ab"
      },
      "outputs": [
        {
          "data": {
            "text/html": [
              "<div>\n",
              "<style scoped>\n",
              "    .dataframe tbody tr th:only-of-type {\n",
              "        vertical-align: middle;\n",
              "    }\n",
              "\n",
              "    .dataframe tbody tr th {\n",
              "        vertical-align: top;\n",
              "    }\n",
              "\n",
              "    .dataframe thead th {\n",
              "        text-align: right;\n",
              "    }\n",
              "</style>\n",
              "<table border=\"1\" class=\"dataframe\">\n",
              "  <thead>\n",
              "    <tr style=\"text-align: right;\">\n",
              "      <th></th>\n",
              "      <th>KM</th>\n",
              "      <th>Year</th>\n",
              "      <th>Fuel</th>\n",
              "      <th>Transmission</th>\n",
              "      <th>Price</th>\n",
              "    </tr>\n",
              "  </thead>\n",
              "  <tbody>\n",
              "    <tr>\n",
              "      <th>24</th>\n",
              "      <td>59781.0</td>\n",
              "      <td>2018.0</td>\n",
              "      <td>Petrol</td>\n",
              "      <td>Automatic</td>\n",
              "      <td>6.88</td>\n",
              "    </tr>\n",
              "    <tr>\n",
              "      <th>5</th>\n",
              "      <td>30825.0</td>\n",
              "      <td>2019.0</td>\n",
              "      <td>Petrol</td>\n",
              "      <td>Manual</td>\n",
              "      <td>7.66</td>\n",
              "    </tr>\n",
              "    <tr>\n",
              "      <th>21</th>\n",
              "      <td>96027.0</td>\n",
              "      <td>2018.0</td>\n",
              "      <td>Diesel</td>\n",
              "      <td>Manual</td>\n",
              "      <td>6.18</td>\n",
              "    </tr>\n",
              "  </tbody>\n",
              "</table>\n",
              "</div>"
            ],
            "text/plain": [
              "         KM    Year    Fuel Transmission  Price\n",
              "24  59781.0  2018.0  Petrol    Automatic   6.88\n",
              "5   30825.0  2019.0  Petrol       Manual   7.66\n",
              "21  96027.0  2018.0  Diesel       Manual   6.18"
            ]
          },
          "execution_count": 32,
          "metadata": {},
          "output_type": "execute_result"
        }
      ],
      "source": [
        "cars.sample(3)"
      ]
    },
    {
      "cell_type": "code",
      "execution_count": 33,
      "id": "RXOqyic_GEDX",
      "metadata": {
        "colab": {
          "base_uri": "https://localhost:8080/",
          "height": 491
        },
        "id": "RXOqyic_GEDX",
        "outputId": "c9350742-a852-4a6a-f607-9855aeee2ab5"
      },
      "outputs": [
        {
          "data": {
            "text/plain": [
              "<Axes: title={'center': 'Histogram of Kilometers driven'}, xlabel='KM', ylabel='Count'>"
            ]
          },
          "execution_count": 33,
          "metadata": {},
          "output_type": "execute_result"
        },
        {
          "data": {
            "image/png": "[encoded data removed]",
            "text/plain": [
              "<Figure size 640x480 with 1 Axes>"
            ]
          },
          "metadata": {},
          "output_type": "display_data"
        }
      ],
      "source": [
        "# Histogramplot\n",
        "\n",
        "plt.title('Histogram of Kilometers driven')\n",
        "sns.histplot(cars.KM, bins=10, kde=True)"
      ]
    },
    {
      "cell_type": "markdown",
      "id": "ENPpIpL0UlVO",
      "metadata": {
        "id": "ENPpIpL0UlVO"
      },
      "source": [
        "## Count Plot"
      ]
    },
    {
      "cell_type": "code",
      "execution_count": 34,
      "id": "KjPQF3lrGhBX",
      "metadata": {
        "colab": {
          "base_uri": "https://localhost:8080/",
          "height": 491
        },
        "id": "KjPQF3lrGhBX",
        "outputId": "b6439e27-1423-455b-baa4-8b6617508c18"
      },
      "outputs": [
        {
          "data": {
            "text/plain": [
              "<Axes: title={'center': 'Car Counts by Year'}, xlabel='Year', ylabel='count'>"
            ]
          },
          "execution_count": 34,
          "metadata": {},
          "output_type": "execute_result"
        },
        {
          "data": {
            "image/png": "[encoded data removed]",
            "text/plain": [
              "<Figure size 640x480 with 1 Axes>"
            ]
          },
          "metadata": {},
          "output_type": "display_data"
        }
      ],
      "source": [
        "plt.title(\"Car Counts by Year\")\n",
        "sns.countplot(data = cars, x='Year')"
      ]
    },
    {
      "cell_type": "code",
      "execution_count": 73,
      "id": "TgtfoAJKUsxl",
      "metadata": {
        "id": "TgtfoAJKUsxl"
      },
      "outputs": [],
      "source": [
        "# From the result we could see that the cars manufactured in 2017 was present in our dataset more whereas 2019 and 2020 secures the least."
      ]
    },
    {
      "cell_type": "code",
      "execution_count": 35,
      "id": "RaNhd1MnQ2xz",
      "metadata": {
        "colab": {
          "base_uri": "https://localhost:8080/",
          "height": 468
        },
        "id": "RaNhd1MnQ2xz",
        "outputId": "21071b2c-cb36-4d48-d8b1-8cde02ea270b"
      },
      "outputs": [
        {
          "data": {
            "text/plain": [
              "<Axes: xlabel='Transmission', ylabel='count'>"
            ]
          },
          "execution_count": 35,
          "metadata": {},
          "output_type": "execute_result"
        },
        {
          "data": {
            "image/png": "[encoded data removed]",
            "text/plain": [
              "<Figure size 640x480 with 1 Axes>"
            ]
          },
          "metadata": {},
          "output_type": "display_data"
        }
      ],
      "source": [
        "sns.countplot(data = cars, x='Transmission')"
      ]
    },
    {
      "cell_type": "code",
      "execution_count": 36,
      "id": "TKLqT-7yVIWu",
      "metadata": {
        "colab": {
          "base_uri": "https://localhost:8080/",
          "height": 174
        },
        "id": "TKLqT-7yVIWu",
        "outputId": "ed8069bd-eeb4-48d4-bff3-fb2b382946d5"
      },
      "outputs": [
        {
          "data": {
            "text/html": [
              "<div>\n",
              "<style scoped>\n",
              "    .dataframe tbody tr th:only-of-type {\n",
              "        vertical-align: middle;\n",
              "    }\n",
              "\n",
              "    .dataframe tbody tr th {\n",
              "        vertical-align: top;\n",
              "    }\n",
              "\n",
              "    .dataframe thead th {\n",
              "        text-align: right;\n",
              "    }\n",
              "</style>\n",
              "<table border=\"1\" class=\"dataframe\">\n",
              "  <thead>\n",
              "    <tr style=\"text-align: right;\">\n",
              "      <th></th>\n",
              "      <th></th>\n",
              "      <th>KM</th>\n",
              "      <th>Year</th>\n",
              "      <th>Price</th>\n",
              "    </tr>\n",
              "    <tr>\n",
              "      <th>Transmission</th>\n",
              "      <th>Fuel</th>\n",
              "      <th></th>\n",
              "      <th></th>\n",
              "      <th></th>\n",
              "    </tr>\n",
              "  </thead>\n",
              "  <tbody>\n",
              "    <tr>\n",
              "      <th>Automatic</th>\n",
              "      <th>Petrol</th>\n",
              "      <td>56755.714286</td>\n",
              "      <td>2017.285714</td>\n",
              "      <td>6.561429</td>\n",
              "    </tr>\n",
              "    <tr>\n",
              "      <th rowspan=\"2\" valign=\"top\">Manual</th>\n",
              "      <th>Diesel</th>\n",
              "      <td>68060.000000</td>\n",
              "      <td>2018.500000</td>\n",
              "      <td>7.020000</td>\n",
              "    </tr>\n",
              "    <tr>\n",
              "      <th>Petrol</th>\n",
              "      <td>44011.642857</td>\n",
              "      <td>2017.428571</td>\n",
              "      <td>5.756429</td>\n",
              "    </tr>\n",
              "  </tbody>\n",
              "</table>\n",
              "</div>"
            ],
            "text/plain": [
              "                               KM         Year     Price\n",
              "Transmission Fuel                                       \n",
              "Automatic    Petrol  56755.714286  2017.285714  6.561429\n",
              "Manual       Diesel  68060.000000  2018.500000  7.020000\n",
              "             Petrol  44011.642857  2017.428571  5.756429"
            ]
          },
          "execution_count": 36,
          "metadata": {},
          "output_type": "execute_result"
        }
      ],
      "source": [
        "cars.groupby(['Transmission','Fuel']).mean()"
      ]
    },
    {
      "cell_type": "code",
      "execution_count": 76,
      "id": "HUeNMSPpU_-D",
      "metadata": {
        "id": "HUeNMSPpU_-D"
      },
      "outputs": [],
      "source": [
        "# The count plot explains that except 2 cars everthing else comes with MANUAL transmission.\n",
        "# That 2 cars with AUTOMATIC transmission has PETROL fueltype."
      ]
    },
    {
      "cell_type": "markdown",
      "id": "VYlECelBUnhW",
      "metadata": {
        "id": "VYlECelBUnhW"
      },
      "source": [
        "## Distribution Plot"
      ]
    },
    {
      "cell_type": "code",
      "execution_count": 37,
      "id": "HjT50KOwQpi7",
      "metadata": {
        "colab": {
          "base_uri": "https://localhost:8080/",
          "height": 447
        },
        "id": "HjT50KOwQpi7",
        "outputId": "1ea2374e-ecbf-4dee-df3b-a2c32cb9954e"
      },
      "outputs": [
        {
          "data": {
            "text/plain": [
              "<Axes: title={'center': 'Fuel Type Distribution'}, ylabel='count'>"
            ]
          },
          "execution_count": 37,
          "metadata": {},
          "output_type": "execute_result"
        },
        {
          "data": {
            "image/png": "[encoded data removed]",
            "text/plain": [
              "<Figure size 640x480 with 1 Axes>"
            ]
          },
          "metadata": {},
          "output_type": "display_data"
        }
      ],
      "source": [
        "plt.title(\"Fuel Type Distribution\")\n",
        "cars.Fuel.value_counts().plot(kind='pie',autopct='%1.1f\"%%')"
      ]
    },
    {
      "cell_type": "code",
      "execution_count": 78,
      "id": "jsP2anNqUukO",
      "metadata": {
        "id": "jsP2anNqUukO"
      },
      "outputs": [],
      "source": [
        "# As we can see above that the majority of cars, precisely(61.5%) belongs to \"petrol\" when it comes to fueltype."
      ]
    },
    {
      "cell_type": "markdown",
      "id": "elYoK2WKeGLW",
      "metadata": {
        "id": "elYoK2WKeGLW"
      },
      "source": [
        "## Scatter Plot"
      ]
    },
    {
      "cell_type": "code",
      "execution_count": 38,
      "id": "kFWFIgd2RkFk",
      "metadata": {
        "colab": {
          "base_uri": "https://localhost:8080/",
          "height": 468
        },
        "id": "kFWFIgd2RkFk",
        "outputId": "273fcc7d-932b-42c5-f206-cc1ecd8899c6"
      },
      "outputs": [
        {
          "data": {
            "text/plain": [
              "<Axes: xlabel='KM', ylabel='Price'>"
            ]
          },
          "execution_count": 38,
          "metadata": {},
          "output_type": "execute_result"
        },
        {
          "data": {
            "image/png": "[encoded data removed]",
            "text/plain": [
              "<Figure size 640x480 with 1 Axes>"
            ]
          },
          "metadata": {},
          "output_type": "display_data"
        }
      ],
      "source": [
        "sns.scatterplot(data = cars, x='KM', y='Price', hue='Transmission')"
      ]
    },
    {
      "cell_type": "code",
      "execution_count": 80,
      "id": "_uNVPrOCRws2",
      "metadata": {
        "id": "_uNVPrOCRws2"
      },
      "outputs": [],
      "source": [
        "# The x axis represents the Kilometer driven by car and y axis represents the price of that car.\n",
        "# Blue color represents the Manual tranmission and Orange represents the Automatic.\n",
        "# No pattern or trend can be found between the variables since cars that were driven around 39k km and 89k both were at price around 7l."
      ]
    },
    {
      "cell_type": "markdown",
      "id": "rVIQYJ0tg2p8",
      "metadata": {
        "id": "rVIQYJ0tg2p8"
      },
      "source": [
        "# **CONCLUSION**\n",
        "##The dataset shows that most cars were manufactured in ***2017***, and majority use ***manual*** transmission and ***petrol*** fuel. The scatter plot shows that there isn't a straightforward relationship between how many kilometers a car has been driven and its price since cars with both low and high KM have similar prices."
      ]
    },
    {
      "cell_type": "code",
      "execution_count": null,
      "id": "Db5vcfcTi2Vg",
      "metadata": {
        "id": "Db5vcfcTi2Vg"
      },
      "outputs": [],
      "source": []
    }
  ],
  "metadata": {
    "colab": {
      "provenance": []
    },
    "kernelspec": {
      "display_name": "Python 3 (ipykernel)",
      "language": "python",
      "name": "python3"
    },
    "language_info": {
      "codemirror_mode": {
        "name": "ipython",
        "version": 3
      },
      "file_extension": ".py",
      "mimetype": "text/x-python",
      "name": "python",
      "nbconvert_exporter": "python",
      "pygments_lexer": "ipython3",
      "version": "3.12.2"
    }
  },
  "nbformat": 4,
  "nbformat_minor": 5
}
